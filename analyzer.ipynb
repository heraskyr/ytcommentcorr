{
 "cells": [
  {
   "cell_type": "markdown",
   "id": "dcacd5f3",
   "metadata": {},
   "source": [
    "# Do positive comments affect video views or it depends on quantity"
   ]
  },
  {
   "cell_type": "markdown",
   "id": "17825d45",
   "metadata": {},
   "source": [
    "## Channels used\n",
    "### Music\n",
    "[Anne Reburn](https://www.youtube.com/@AnneReburn)  \n",
    "[Frog Leap Studios](https://www.youtube.com/@leolego)  \n",
    "### Travel\n",
    "[Jaychel](https://www.youtube.com/@JaychelAdventure)   \n",
    "[Lucas T. Jahn](https://www.youtube.com/@LucasTJahn) "
   ]
  },
  {
   "cell_type": "markdown",
   "id": "cc4baf07",
   "metadata": {},
   "source": [
    "## 1. Import all necessary libraries. \n",
    "- Requests for getting data.  \n",
    "- Pandas to manipulate data.  \n",
    "- NLTK to analyze text."
   ]
  },
  {
   "cell_type": "code",
   "execution_count": 1,
   "id": "3d3c5924",
   "metadata": {},
   "outputs": [],
   "source": [
    "import pandas as pd\n",
    "import requests\n",
    "from nltk.sentiment.vader import SentimentIntensityAnalyzer\n",
    "from nltk import tokenize\n",
    "import nltk"
   ]
  },
  {
   "cell_type": "markdown",
   "id": "7aecece2",
   "metadata": {},
   "source": [
    "## 2. Define constants\n",
    "YouTube API wants you to provide authentication token which you can get [here](https://developers.google.com/youtube/registering_an_application)       \n",
    "Also you will need channel id to define from which channel you want to get videos"
   ]
  },
  {
   "cell_type": "code",
   "execution_count": 15,
   "id": "0c03f9ff",
   "metadata": {},
   "outputs": [],
   "source": [
    "channel_id = \"\" \n",
    "auth_key = \"\""
   ]
  },
  {
   "cell_type": "markdown",
   "id": "49c3a428",
   "metadata": {},
   "source": [
    "## 3. Make request to get videos from channel and transform the data\n",
    "\n",
    "I will get only first 50 videos"
   ]
  },
  {
   "cell_type": "code",
   "execution_count": 3,
   "id": "f8cee673",
   "metadata": {},
   "outputs": [],
   "source": [
    "request_string = f\"https://www.googleapis.com/youtube/v3/search?key={auth_key}&channelId={channel_id}&part=snippet,id&order=date&maxResults=50&type=video\"\n",
    "\n",
    "channel_videos = requests.get(request_string)"
   ]
  },
  {
   "cell_type": "code",
   "execution_count": 4,
   "id": "90359c96",
   "metadata": {},
   "outputs": [],
   "source": [
    "df = pd.DataFrame(channel_videos.json()['items'])\n",
    "d=df['id']\n",
    "df['videoId'] = df['id'].apply(lambda x: x['videoId'])\n",
    "df = df.drop('id', axis = 1)\n",
    "df = df.drop('etag', axis = 1)\n",
    "df = df.drop('snippet', axis = 1)\n",
    "df = df.drop('kind', axis = 1)"
   ]
  },
  {
   "cell_type": "code",
   "execution_count": 5,
   "id": "a2c54f9b",
   "metadata": {},
   "outputs": [
    {
     "data": {
      "text/html": [
       "<div>\n",
       "<style scoped>\n",
       "    .dataframe tbody tr th:only-of-type {\n",
       "        vertical-align: middle;\n",
       "    }\n",
       "\n",
       "    .dataframe tbody tr th {\n",
       "        vertical-align: top;\n",
       "    }\n",
       "\n",
       "    .dataframe thead th {\n",
       "        text-align: right;\n",
       "    }\n",
       "</style>\n",
       "<table border=\"1\" class=\"dataframe\">\n",
       "  <thead>\n",
       "    <tr style=\"text-align: right;\">\n",
       "      <th></th>\n",
       "      <th>videoId</th>\n",
       "    </tr>\n",
       "  </thead>\n",
       "  <tbody>\n",
       "    <tr>\n",
       "      <th>0</th>\n",
       "      <td>FFyaqbAn-cA</td>\n",
       "    </tr>\n",
       "    <tr>\n",
       "      <th>1</th>\n",
       "      <td>iXTNZfuGjTM</td>\n",
       "    </tr>\n",
       "    <tr>\n",
       "      <th>2</th>\n",
       "      <td>v4CA65JyaVA</td>\n",
       "    </tr>\n",
       "    <tr>\n",
       "      <th>3</th>\n",
       "      <td>9nPFq3IX9I0</td>\n",
       "    </tr>\n",
       "    <tr>\n",
       "      <th>4</th>\n",
       "      <td>KVLAYb1L9xU</td>\n",
       "    </tr>\n",
       "  </tbody>\n",
       "</table>\n",
       "</div>"
      ],
      "text/plain": [
       "       videoId\n",
       "0  FFyaqbAn-cA\n",
       "1  iXTNZfuGjTM\n",
       "2  v4CA65JyaVA\n",
       "3  9nPFq3IX9I0\n",
       "4  KVLAYb1L9xU"
      ]
     },
     "execution_count": 5,
     "metadata": {},
     "output_type": "execute_result"
    }
   ],
   "source": [
    "## Check data\n",
    "df.head()"
   ]
  },
  {
   "cell_type": "code",
   "execution_count": 6,
   "id": "9815159e",
   "metadata": {},
   "outputs": [],
   "source": [
    "def get_views(video):\n",
    "    \"\"\"Gets dataframe row with video id ['videoId'] and returns \n",
    "    dataframe row with statistics. ['view_count'] and ['comment_count']\"\"\"\n",
    "    views_request_string = f\"https://www.googleapis.com/youtube/v3/videos?part=statistics&id={video['videoId']}&key={auth_key}\"\n",
    "    views_request = requests.get(views_request_string)\n",
    "    video['view_count'] = int(views_request.json()['items'][0]['statistics']['viewCount'])\n",
    "    video['comment_count'] = int(views_request.json()['items'][0]['statistics']['commentCount'])\n",
    "    return video"
   ]
  },
  {
   "cell_type": "code",
   "execution_count": 7,
   "id": "77e8562c",
   "metadata": {},
   "outputs": [],
   "source": [
    "df = df.apply(get_views, axis = 1)"
   ]
  },
  {
   "cell_type": "code",
   "execution_count": 8,
   "id": "a77e6fa1",
   "metadata": {},
   "outputs": [
    {
     "data": {
      "text/html": [
       "<div>\n",
       "<style scoped>\n",
       "    .dataframe tbody tr th:only-of-type {\n",
       "        vertical-align: middle;\n",
       "    }\n",
       "\n",
       "    .dataframe tbody tr th {\n",
       "        vertical-align: top;\n",
       "    }\n",
       "\n",
       "    .dataframe thead th {\n",
       "        text-align: right;\n",
       "    }\n",
       "</style>\n",
       "<table border=\"1\" class=\"dataframe\">\n",
       "  <thead>\n",
       "    <tr style=\"text-align: right;\">\n",
       "      <th></th>\n",
       "      <th>videoId</th>\n",
       "      <th>view_count</th>\n",
       "      <th>comment_count</th>\n",
       "    </tr>\n",
       "  </thead>\n",
       "  <tbody>\n",
       "    <tr>\n",
       "      <th>0</th>\n",
       "      <td>FFyaqbAn-cA</td>\n",
       "      <td>1893380</td>\n",
       "      <td>1220</td>\n",
       "    </tr>\n",
       "    <tr>\n",
       "      <th>1</th>\n",
       "      <td>iXTNZfuGjTM</td>\n",
       "      <td>847003</td>\n",
       "      <td>239</td>\n",
       "    </tr>\n",
       "    <tr>\n",
       "      <th>2</th>\n",
       "      <td>v4CA65JyaVA</td>\n",
       "      <td>8493175</td>\n",
       "      <td>1859</td>\n",
       "    </tr>\n",
       "    <tr>\n",
       "      <th>3</th>\n",
       "      <td>9nPFq3IX9I0</td>\n",
       "      <td>328971</td>\n",
       "      <td>262</td>\n",
       "    </tr>\n",
       "    <tr>\n",
       "      <th>4</th>\n",
       "      <td>KVLAYb1L9xU</td>\n",
       "      <td>1053956</td>\n",
       "      <td>510</td>\n",
       "    </tr>\n",
       "  </tbody>\n",
       "</table>\n",
       "</div>"
      ],
      "text/plain": [
       "       videoId  view_count  comment_count\n",
       "0  FFyaqbAn-cA     1893380           1220\n",
       "1  iXTNZfuGjTM      847003            239\n",
       "2  v4CA65JyaVA     8493175           1859\n",
       "3  9nPFq3IX9I0      328971            262\n",
       "4  KVLAYb1L9xU     1053956            510"
      ]
     },
     "execution_count": 8,
     "metadata": {},
     "output_type": "execute_result"
    }
   ],
   "source": [
    "## Check \n",
    "df.head()"
   ]
  },
  {
   "cell_type": "code",
   "execution_count": 9,
   "id": "ccbd8e71",
   "metadata": {},
   "outputs": [],
   "source": [
    "## Initialize sentiment analyzer that will process comment text\n",
    "analyzer = SentimentIntensityAnalyzer()\n",
    "def analyze(snippet):\n",
    "    text = snippet['topLevelComment']['snippet']['textOriginal']\n",
    "    return analyzer.polarity_scores(text)['compound']"
   ]
  },
  {
   "cell_type": "code",
   "execution_count": 10,
   "id": "3b883172",
   "metadata": {},
   "outputs": [],
   "source": [
    "def get_comments_score(temp_video_id):\n",
    "    \"\"\" Gets video id and returns mean sentiment score for all comments for current video. \"\"\"\n",
    "    suma=0\n",
    "    count=0\n",
    "    temp_request_string = f\"https://www.googleapis.com/youtube/v3/commentThreads?key={auth_key}&videoId={temp_video_id}&maxResults=100&part=snippet\"\n",
    "    temp_request=requests.get(temp_request_string)\n",
    "    for item in temp_request.json()['items']:\n",
    "        count += 1\n",
    "        suma += analyze(item['snippet'])\n",
    "    while True:\n",
    "        try:\n",
    "            next_page_token = temp_request.json()['nextPageToken']\n",
    "            temp_request_string = f\"https://www.googleapis.com/youtube/v3/commentThreads?key={auth_key}&videoId={v_id}&maxResults=100&part=snippet&pageToken={next_page_token}\"\n",
    "            temp_request=requests.get(temp_request_string)\n",
    "            for item in temp_request.json()['items']:\n",
    "                count += 1\n",
    "                suma += analyze(item['snippet'])\n",
    "        except: \n",
    "            break\n",
    "    return suma/count"
   ]
  },
  {
   "cell_type": "code",
   "execution_count": 11,
   "id": "1ec3ca57",
   "metadata": {},
   "outputs": [],
   "source": [
    "df['comment_score'] = df['videoId'].apply(get_comments_score)"
   ]
  },
  {
   "cell_type": "code",
   "execution_count": 12,
   "id": "6b4c46b2",
   "metadata": {},
   "outputs": [],
   "source": [
    "df['comment_frequency'] = df['comment_count']/df['view_count']"
   ]
  },
  {
   "cell_type": "code",
   "execution_count": 13,
   "id": "15ae8605",
   "metadata": {
    "scrolled": true
   },
   "outputs": [
    {
     "data": {
      "text/html": [
       "<div>\n",
       "<style scoped>\n",
       "    .dataframe tbody tr th:only-of-type {\n",
       "        vertical-align: middle;\n",
       "    }\n",
       "\n",
       "    .dataframe tbody tr th {\n",
       "        vertical-align: top;\n",
       "    }\n",
       "\n",
       "    .dataframe thead th {\n",
       "        text-align: right;\n",
       "    }\n",
       "</style>\n",
       "<table border=\"1\" class=\"dataframe\">\n",
       "  <thead>\n",
       "    <tr style=\"text-align: right;\">\n",
       "      <th></th>\n",
       "      <th>videoId</th>\n",
       "      <th>view_count</th>\n",
       "      <th>comment_count</th>\n",
       "      <th>comment_score</th>\n",
       "      <th>comment_frequency</th>\n",
       "    </tr>\n",
       "  </thead>\n",
       "  <tbody>\n",
       "    <tr>\n",
       "      <th>0</th>\n",
       "      <td>FFyaqbAn-cA</td>\n",
       "      <td>1893380</td>\n",
       "      <td>1220</td>\n",
       "      <td>0.361841</td>\n",
       "      <td>0.000644</td>\n",
       "    </tr>\n",
       "    <tr>\n",
       "      <th>1</th>\n",
       "      <td>iXTNZfuGjTM</td>\n",
       "      <td>847003</td>\n",
       "      <td>239</td>\n",
       "      <td>0.506196</td>\n",
       "      <td>0.000282</td>\n",
       "    </tr>\n",
       "    <tr>\n",
       "      <th>2</th>\n",
       "      <td>v4CA65JyaVA</td>\n",
       "      <td>8493175</td>\n",
       "      <td>1859</td>\n",
       "      <td>0.549687</td>\n",
       "      <td>0.000219</td>\n",
       "    </tr>\n",
       "    <tr>\n",
       "      <th>3</th>\n",
       "      <td>9nPFq3IX9I0</td>\n",
       "      <td>328971</td>\n",
       "      <td>262</td>\n",
       "      <td>0.513874</td>\n",
       "      <td>0.000796</td>\n",
       "    </tr>\n",
       "    <tr>\n",
       "      <th>4</th>\n",
       "      <td>KVLAYb1L9xU</td>\n",
       "      <td>1053956</td>\n",
       "      <td>510</td>\n",
       "      <td>0.446923</td>\n",
       "      <td>0.000484</td>\n",
       "    </tr>\n",
       "  </tbody>\n",
       "</table>\n",
       "</div>"
      ],
      "text/plain": [
       "       videoId  view_count  comment_count  comment_score  comment_frequency\n",
       "0  FFyaqbAn-cA     1893380           1220       0.361841           0.000644\n",
       "1  iXTNZfuGjTM      847003            239       0.506196           0.000282\n",
       "2  v4CA65JyaVA     8493175           1859       0.549687           0.000219\n",
       "3  9nPFq3IX9I0      328971            262       0.513874           0.000796\n",
       "4  KVLAYb1L9xU     1053956            510       0.446923           0.000484"
      ]
     },
     "execution_count": 13,
     "metadata": {},
     "output_type": "execute_result"
    }
   ],
   "source": [
    "## Check data\n",
    "df.head()"
   ]
  },
  {
   "cell_type": "code",
   "execution_count": 14,
   "id": "e2b9cd88",
   "metadata": {},
   "outputs": [
    {
     "data": {
      "text/html": [
       "<div>\n",
       "<style scoped>\n",
       "    .dataframe tbody tr th:only-of-type {\n",
       "        vertical-align: middle;\n",
       "    }\n",
       "\n",
       "    .dataframe tbody tr th {\n",
       "        vertical-align: top;\n",
       "    }\n",
       "\n",
       "    .dataframe thead th {\n",
       "        text-align: right;\n",
       "    }\n",
       "</style>\n",
       "<table border=\"1\" class=\"dataframe\">\n",
       "  <thead>\n",
       "    <tr style=\"text-align: right;\">\n",
       "      <th></th>\n",
       "      <th>view_count</th>\n",
       "      <th>comment_count</th>\n",
       "      <th>comment_score</th>\n",
       "      <th>comment_frequency</th>\n",
       "    </tr>\n",
       "  </thead>\n",
       "  <tbody>\n",
       "    <tr>\n",
       "      <th>view_count</th>\n",
       "      <td>1.000000</td>\n",
       "      <td>0.919340</td>\n",
       "      <td>-0.065308</td>\n",
       "      <td>-0.552714</td>\n",
       "    </tr>\n",
       "    <tr>\n",
       "      <th>comment_count</th>\n",
       "      <td>0.919340</td>\n",
       "      <td>1.000000</td>\n",
       "      <td>-0.169800</td>\n",
       "      <td>-0.492465</td>\n",
       "    </tr>\n",
       "    <tr>\n",
       "      <th>comment_score</th>\n",
       "      <td>-0.065308</td>\n",
       "      <td>-0.169800</td>\n",
       "      <td>1.000000</td>\n",
       "      <td>0.106701</td>\n",
       "    </tr>\n",
       "    <tr>\n",
       "      <th>comment_frequency</th>\n",
       "      <td>-0.552714</td>\n",
       "      <td>-0.492465</td>\n",
       "      <td>0.106701</td>\n",
       "      <td>1.000000</td>\n",
       "    </tr>\n",
       "  </tbody>\n",
       "</table>\n",
       "</div>"
      ],
      "text/plain": [
       "                   view_count  comment_count  comment_score  comment_frequency\n",
       "view_count           1.000000       0.919340      -0.065308          -0.552714\n",
       "comment_count        0.919340       1.000000      -0.169800          -0.492465\n",
       "comment_score       -0.065308      -0.169800       1.000000           0.106701\n",
       "comment_frequency   -0.552714      -0.492465       0.106701           1.000000"
      ]
     },
     "execution_count": 14,
     "metadata": {},
     "output_type": "execute_result"
    }
   ],
   "source": [
    "df.corr()"
   ]
  },
  {
   "cell_type": "markdown",
   "id": "a7a1e255",
   "metadata": {},
   "source": [
    "| Channel           | Correlation   |                 |  \n",
    "|-------------------|---------------|-----------------|\n",
    "|                   | View comment  | View positivity |\n",
    "| **Music**         |               |                 |\n",
    "| Anne Reburn       |  0.865910\t    |  -0.110349\t  |\n",
    "| Frog Leap Studios |  0.814003\t    |  -0.087670\t  |\n",
    "| **Travel**        |               |                 |\n",
    "| Jaychel           |  0.923368\t    |  -0.235714\t  |\n",
    "| Lucas T. Jahn     |  0.919340\t    |  -0.065308\t  |\n"
   ]
  },
  {
   "cell_type": "markdown",
   "id": "6d068f5a",
   "metadata": {},
   "source": [
    "## Conclusion. \n",
    "\n",
    "As we see, comment positivity is not highly correlated woth number of views on the video.  \n",
    "Also we can see that view count and comment frequency (probability that user will leave a comment after watching video) are not highly correlated, so we can assume that overall amount of comments does not affect view count.   "
   ]
  }
 ],
 "metadata": {
  "kernelspec": {
   "display_name": "Python 3 (ipykernel)",
   "language": "python",
   "name": "python3"
  },
  "language_info": {
   "codemirror_mode": {
    "name": "ipython",
    "version": 3
   },
   "file_extension": ".py",
   "mimetype": "text/x-python",
   "name": "python",
   "nbconvert_exporter": "python",
   "pygments_lexer": "ipython3",
   "version": "3.9.13"
  }
 },
 "nbformat": 4,
 "nbformat_minor": 5
}
